{
 "cells": [
  {
   "cell_type": "markdown",
   "metadata": {},
   "source": [
    "# **Tudatpy** tutorials "
   ]
  },
  {
   "cell_type": "markdown",
   "metadata": {},
   "source": [
    "This notebook will walk you through 16 example applications that are generalised and contained within the `tudatpy.apps` module. These examples demonstrate the use of multiple core libraries for creating your own simulations."
   ]
  },
  {
   "cell_type": "markdown",
   "metadata": {},
   "source": [
    "## Contents\n",
    "\n",
    "Each tutorial is discussed in detail in individual notebooks. Each element of the generalised source files are explained in a step-by-step manner."
   ]
  },
  {
   "cell_type": "markdown",
   "metadata": {},
   "source": [
    "### [Tutorial 1: Unperturbed single satellite propagator](tutorials/tutorial_1.ipynb)\n",
    "\n",
    "This tutorial follows the source code of the **Single Satellite Propagator** application, or **SSP**. Focus is placed on initial steps in the **core elements of setting up simulations**.\n",
    "\n"
   ]
  },
  {
   "cell_type": "markdown",
   "metadata": {},
   "source": [
    "### [Tutorial 2: Perturbed single satellite propagator](tutorials/tutorial_2.ipynb)\n",
    "\n",
    "This tutorial follows the source code of the **Single Satellite Propagator** application, or **SSP**. Focus is placed on **performing analyses on simulation results**."
   ]
  },
  {
   "cell_type": "markdown",
   "metadata": {},
   "source": [
    "### [Tutorial 3: Un-guided capsule reentry](tutorials/tutorial_2.ipynb)\n",
    "\n",
    "This tutorial follows the source code of the **Unguided Reentry Capsule**, or **URC**. Focus is placed on **basic aerodynamics** and **termination conditions**."
   ]
  },
  {
   "cell_type": "markdown",
   "metadata": {},
   "source": [
    "### [Tutorial 4: Inner Solar System Propagation](tutorials/tutorial_4.ipynb)"
   ]
  },
  {
   "cell_type": "code",
   "execution_count": null,
   "metadata": {},
   "outputs": [],
   "source": []
  }
 ],
 "metadata": {
  "kernelspec": {
   "display_name": "tudat-environment",
   "language": "python",
   "name": "tudat-environment"
  },
  "language_info": {
   "codemirror_mode": {
    "name": "ipython",
    "version": 3
   },
   "file_extension": ".py",
   "mimetype": "text/x-python",
   "name": "python",
   "nbconvert_exporter": "python",
   "pygments_lexer": "ipython3",
   "version": "3.7.6"
  }
 },
 "nbformat": 4,
 "nbformat_minor": 4
}
