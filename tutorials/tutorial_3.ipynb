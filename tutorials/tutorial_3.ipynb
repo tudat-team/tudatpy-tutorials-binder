{
 "cells": [
  {
   "cell_type": "markdown",
   "metadata": {},
   "source": [
    "# Tutorial 3: Un-guided Capsule Reentry"
   ]
  },
  {
   "cell_type": "markdown",
   "metadata": {},
   "source": [
    "## Import statements"
   ]
  },
  {
   "cell_type": "code",
   "execution_count": 1,
   "metadata": {},
   "outputs": [],
   "source": [
    "###############################################################################\n",
    "# IMPORT STATEMENTS ###########################################################\n",
    "###############################################################################\n",
    "import numpy as np\n",
    "import pandas as pd\n",
    "from tudatpy import elements\n",
    "from tudatpy.kernel import io\n",
    "from tudatpy.kernel import constants\n",
    "from tudatpy.kernel import ephemerides\n",
    "from tudatpy.kernel import numerical_integrators\n",
    "from tudatpy.kernel import basic_astrodynamics\n",
    "from tudatpy.kernel import spice_interface\n",
    "from tudatpy.kernel import propagators\n",
    "from tudatpy.kernel import simulation_setup\n",
    "from tudatpy.kernel import unit_tests"
   ]
  },
  {
   "cell_type": "code",
   "execution_count": 2,
   "metadata": {},
   "outputs": [],
   "source": [
    "# Load spice kernels.\n",
    "spice_interface.load_standard_kernels()\n",
    "\n",
    "# Set simulation start epoch.\n",
    "simulation_start_epoch = 0.0\n",
    "\n",
    "# Set numerical integration fixed step size.\n",
    "fixed_step_size = 1.0"
   ]
  },
  {
   "cell_type": "code",
   "execution_count": 3,
   "metadata": {},
   "outputs": [],
   "source": [
    "###########################################################################\n",
    "# CREATE ENVIRONMENT ######################################################\n",
    "###########################################################################\n",
    "\n",
    "bodies_to_create = [\"Earth\"]\n",
    "\n",
    "body_settings = simulation_setup.get_default_body_settings(bodies_to_create)\n",
    "\n",
    "body_settings[\"Earth\"].ephemeris_settings = simulation_setup.ConstantEphemerisSettings(\n",
    "    np.zeros(6), \"SSB\", \"J2000\")\n",
    "\n",
    "body_settings[\"Earth\"].rotation_model_settings.reset_original_frame(\"J2000\")\n",
    "\n",
    "# Create Earth Object.\n",
    "bodies = simulation_setup.create_bodies(body_settings)"
   ]
  },
  {
   "cell_type": "code",
   "execution_count": 4,
   "metadata": {},
   "outputs": [],
   "source": [
    "###########################################################################\n",
    "# CREATE VEHICLE ##########################################################\n",
    "###########################################################################\n",
    "\n",
    "# Create vehicle objects.\n",
    "bodies[\"Apollo\"] = simulation_setup.Body()\n",
    "\n",
    "bodies[\"Apollo\"].set_aerodynamic_coefficient_interface(unit_tests.get_apollo_coefficient_interface())\n",
    "\n",
    "bodies[\"Apollo\"].set_constant_body_mass(5.0E3)"
   ]
  },
  {
   "cell_type": "code",
   "execution_count": 5,
   "metadata": {},
   "outputs": [],
   "source": [
    "###########################################################################\n",
    "# FINALIZE BODIES #########################################################\n",
    "###########################################################################\n",
    "\n",
    "# Finalize body creation.\n",
    "simulation_setup.set_global_frame_body_ephemerides(bodies, \"SSB\", \"J2000\")"
   ]
  },
  {
   "cell_type": "code",
   "execution_count": 6,
   "metadata": {},
   "outputs": [],
   "source": [
    "###########################################################################\n",
    "# CREATE ACCELERATIONS ####################################################\n",
    "###########################################################################\n",
    "\n",
    "# Define bodies that are propagated.\n",
    "bodies_to_propagate = [\"Apollo\"]\n",
    "\n",
    "# Define central bodies.\n",
    "central_bodies = [\"Earth\"]\n",
    "\n",
    "# Define accelerations acting on Apollo.\n",
    "accelerations_of_apollo = dict(Earth=[\n",
    "    simulation_setup.Acceleration.spherical_harmonic_gravity(4, 0),\n",
    "    simulation_setup.Acceleration.aerodynamic()\n",
    "])\n",
    "\n",
    "# Create global accelerations dictionary.\n",
    "acceleration_dict = dict(Apollo=accelerations_of_apollo)\n",
    "\n",
    "# Create acceleration models.\n",
    "acceleration_models = simulation_setup.create_acceleration_models_dict(\n",
    "    bodies, acceleration_dict,\n",
    "    bodies_to_propagate, central_bodies)\n",
    "\n",
    "# Define constant 30 degree angle of attack.\n",
    "constant_aoa = np.deg2rad(30.0)\n",
    "bodies[\"Apollo\"].get_flight_conditions(\n",
    ").get_aerodynamic_angle_calculator(\n",
    ").set_orientation_angle_functions(lambda: constant_aoa)"
   ]
  },
  {
   "cell_type": "code",
   "execution_count": 7,
   "metadata": {},
   "outputs": [],
   "source": [
    "###########################################################################\n",
    "# CREATE PROPAGATION SETTINGS #############################################\n",
    "###########################################################################\n",
    "\n",
    "# Set spherical elements for Apollo and convert to Cartesian.\n",
    "cartesian_initial_state = elements.spherical2cartesian(\n",
    "    r=spice_interface.get_average_radius(\"Earth\") + 120.0E3,\n",
    "    lat=np.deg2rad(0.0),\n",
    "    lon=np.deg2rad(68.75),\n",
    "    speed=7.7E3,\n",
    "    fpa=np.deg2rad(-0.9),\n",
    "    heading=np.deg2rad(34.37))\n",
    "\n",
    "# Convert the state to the global (inertial) frame.\n",
    "earth_rotational_ephemeris = bodies[\"Earth\"].get_rotational_ephemeris()\n",
    "system_initial_state = ephemerides.transform_state_to_global_frame(\n",
    "    cartesian_initial_state,\n",
    "    simulation_start_epoch,\n",
    "    earth_rotational_ephemeris)\n",
    "\n",
    "# Define list of dependent variables to save.\n",
    "# TODO: Revise design of dependent variable saves with Python class layer.\n",
    "dependent_variables_list = [\n",
    "    propagators.SingleDependentVariableSaveSettings(\n",
    "        propagators.PropagationDependentVariables.mach_number_dependent_variable,\n",
    "        \"Apollo\"\n",
    "    ),\n",
    "    propagators.SingleDependentVariableSaveSettings(\n",
    "        propagators.PropagationDependentVariables.altitude_dependent_variable,\n",
    "        \"Apollo\", \"Earth\"\n",
    "    ),\n",
    "    propagators.SingleAccelerationDependentVariableSaveSettings(\n",
    "        basic_astrodynamics.AvailableAcceleration.aerodynamic,\n",
    "        \"Apollo\", \"Earth\", 1\n",
    "    ),\n",
    "    propagators.SingleDependentVariableSaveSettings(\n",
    "        propagators.PropagationDependentVariables.aerodynamic_force_coefficients_dependent_variable,\n",
    "        \"Apollo\"\n",
    "    )\n",
    "]\n",
    "dependent_variables_to_save = propagators.DependentVariableSaveSettings(\n",
    "    dependent_variables_list)\n",
    "\n",
    "# Define termination conditions.\n",
    "termination_dependent_variable = propagators.SingleDependentVariableSaveSettings(\n",
    "    propagators.PropagationDependentVariables.altitude_dependent_variable,\n",
    "    \"Apollo\", \"Earth\"\n",
    ")\n",
    "termination_settings = propagators.PropagationDependentVariableTerminationSettings(\n",
    "    dependent_variable_settings=termination_dependent_variable,\n",
    "    limit_value=25.0E3,\n",
    "    use_as_lower_limit=True,\n",
    "    terminate_exactly_on_final_condition=False\n",
    ")\n",
    "\n",
    "# Create propagation settings.\n",
    "propagator_settings = propagators.TranslationalStatePropagatorSettings(\n",
    "    central_bodies,\n",
    "    acceleration_models,\n",
    "    bodies_to_propagate,\n",
    "    system_initial_state,\n",
    "    termination_settings,\n",
    "    propagators.TranslationalPropagatorType.cowell,\n",
    "    dependent_variables_to_save\n",
    ")\n",
    "integrator_settings = numerical_integrators.IntegratorSettings(\n",
    "    numerical_integrators.AvailableIntegrators.rungeKutta4,\n",
    "    simulation_start_epoch,\n",
    "    fixed_step_size\n",
    ")"
   ]
  },
  {
   "cell_type": "code",
   "execution_count": 8,
   "metadata": {},
   "outputs": [],
   "source": [
    "###########################################################################\n",
    "# PROPAGATE ORBIT #########################################################\n",
    "###########################################################################\n",
    "\n",
    "# Create simulation object and propagate dynamics.\n",
    "dynamics_simulator = propagators.SingleArcDynamicsSimulator(\n",
    "    bodies, integrator_settings, propagator_settings)\n",
    "\n",
    "solution = dynamics_simulator.get_equations_of_motion_numerical_solution()\n",
    "dependent = dynamics_simulator.get_dependent_variable_history()"
   ]
  }
 ],
 "metadata": {
  "kernelspec": {
   "display_name": "tudat-environment",
   "language": "python",
   "name": "tudat-environment"
  },
  "language_info": {
   "codemirror_mode": {
    "name": "ipython",
    "version": 3
   },
   "file_extension": ".py",
   "mimetype": "text/x-python",
   "name": "python",
   "nbconvert_exporter": "python",
   "pygments_lexer": "ipython3",
   "version": "3.7.6"
  }
 },
 "nbformat": 4,
 "nbformat_minor": 4
}
