{
 "cells": [
  {
   "cell_type": "markdown",
   "metadata": {},
   "source": [
    "# Tutorial 2: Perturbed single satellite propagator"
   ]
  },
  {
   "cell_type": "markdown",
   "metadata": {},
   "source": [
    "## Import statements"
   ]
  },
  {
   "cell_type": "code",
   "execution_count": 1,
   "metadata": {},
   "outputs": [],
   "source": [
    "import numpy as np\n",
    "import pandas as pd\n",
    "from tudatpy import elements\n",
    "from tudatpy.kernel import io\n",
    "from tudatpy.kernel import constants\n",
    "from tudatpy.kernel import ephemerides\n",
    "from tudatpy.kernel import numerical_integrators\n",
    "from tudatpy.kernel import spice_interface\n",
    "from tudatpy.kernel import propagators\n",
    "from tudatpy.kernel import simulation_setup"
   ]
  },
  {
   "cell_type": "code",
   "execution_count": 2,
   "metadata": {},
   "outputs": [],
   "source": [
    "system_bodies = [\"Sun\", \"Earth\", \"Moon\", \"Mars\", \"Venus\"]"
   ]
  },
  {
   "cell_type": "code",
   "execution_count": 3,
   "metadata": {},
   "outputs": [],
   "source": [
    "# Load spice kernels.\n",
    "spice_interface.load_standard_kernels()\n",
    "\n",
    "# Set simulation start epoch.\n",
    "simulation_start_epoch = 0.0\n",
    "\n",
    "# Set numerical integration fixed step size.\n",
    "fixed_step_size = 10.0\n",
    "\n",
    "# Set simulation end epoch.\n",
    "simulation_end_epoch = constants.JULIAN_DAY"
   ]
  },
  {
   "cell_type": "code",
   "execution_count": 4,
   "metadata": {},
   "outputs": [
    {
     "ename": "NameError",
     "evalue": "name 'bodies_to_create' is not defined",
     "output_type": "error",
     "traceback": [
      "\u001b[0;31m---------------------------------------------------------------------------\u001b[0m",
      "\u001b[0;31mNameError\u001b[0m                                 Traceback (most recent call last)",
      "\u001b[0;32m<ipython-input-4-90c33f8d63a2>\u001b[0m in \u001b[0;36m<module>\u001b[0;34m\u001b[0m\n\u001b[1;32m      4\u001b[0m \u001b[0mbody_settings\u001b[0m \u001b[0;34m=\u001b[0m \u001b[0msimulation_setup\u001b[0m\u001b[0;34m.\u001b[0m\u001b[0mget_default_body_settings\u001b[0m\u001b[0;34m(\u001b[0m\u001b[0msystem_bodies\u001b[0m\u001b[0;34m)\u001b[0m\u001b[0;34m\u001b[0m\u001b[0;34m\u001b[0m\u001b[0m\n\u001b[1;32m      5\u001b[0m \u001b[0;34m\u001b[0m\u001b[0m\n\u001b[0;32m----> 6\u001b[0;31m \u001b[0;32mfor\u001b[0m \u001b[0mbody\u001b[0m \u001b[0;32min\u001b[0m \u001b[0mbodies_to_create\u001b[0m\u001b[0;34m:\u001b[0m\u001b[0;34m\u001b[0m\u001b[0;34m\u001b[0m\u001b[0m\n\u001b[0m\u001b[1;32m      7\u001b[0m     \u001b[0mbody_settings\u001b[0m\u001b[0;34m[\u001b[0m\u001b[0mbody\u001b[0m\u001b[0;34m]\u001b[0m\u001b[0;34m.\u001b[0m\u001b[0mephemeris_settings\u001b[0m\u001b[0;34m.\u001b[0m\u001b[0mreset_frame_orientation\u001b[0m\u001b[0;34m(\u001b[0m\u001b[0;34m\"J2000\"\u001b[0m\u001b[0;34m)\u001b[0m\u001b[0;34m\u001b[0m\u001b[0;34m\u001b[0m\u001b[0m\n\u001b[1;32m      8\u001b[0m     \u001b[0mbody_settings\u001b[0m\u001b[0;34m[\u001b[0m\u001b[0mbody\u001b[0m\u001b[0;34m]\u001b[0m\u001b[0;34m.\u001b[0m\u001b[0mrotation_model_settings\u001b[0m\u001b[0;34m.\u001b[0m\u001b[0mreset_original_frame\u001b[0m\u001b[0;34m(\u001b[0m\u001b[0;34m\"J2000\"\u001b[0m\u001b[0;34m)\u001b[0m\u001b[0;34m\u001b[0m\u001b[0;34m\u001b[0m\u001b[0m\n",
      "\u001b[0;31mNameError\u001b[0m: name 'bodies_to_create' is not defined"
     ]
    }
   ],
   "source": [
    "###########################################################################\n",
    "# CREATE ENVIRONMENT ######################################################\n",
    "##########################################################################\n",
    "body_settings = simulation_setup.get_default_body_settings(system_bodies)\n",
    "\n",
    "for body in bodies_to_create:\n",
    "    body_settings[body].ephemeris_settings.reset_frame_orientation(\"J2000\")\n",
    "    body_settings[body].rotation_model_settings.reset_original_frame(\"J2000\")\n",
    "\n",
    "bodies = simulation_setup.create_bodies(body_settings)"
   ]
  },
  {
   "cell_type": "code",
   "execution_count": null,
   "metadata": {},
   "outputs": [],
   "source": [
    "###########################################################################\n",
    "# CREATE VEHICLE ##########################################################\n",
    "###########################################################################\n",
    "\n",
    "# Create vehicle objects.\n",
    "bodies[\"Delfi-C3\"] = simulation_setup.Body()\n",
    "bodies[\"Delfi-C3\"].set_constant_body_mass(400.0)"
   ]
  },
  {
   "cell_type": "code",
   "execution_count": null,
   "metadata": {},
   "outputs": [],
   "source": [
    "###########################################################################\n",
    "# CREATE VEHICLE - ENVIRONMENT INTERFACE ##################################\n",
    "###########################################################################\n",
    "\n",
    "# Create aerodynamic coefficient interface settings\n",
    "reference_area = 4.0\n",
    "aerodynamic_coefficient = 1.2\n",
    "aero_c_settings = simulation_setup.ConstantAerodynamicCoefficientSettings(\n",
    "    reference_area,\n",
    "    aerodynamic_coefficient * np.ones(3),\n",
    "    are_coefficients_in_aerodynamic_frame=True,\n",
    "    are_coefficients_in_negative_axis_direction=True\n",
    ")\n",
    "# Create and set aerodynamic coefficients object\n",
    "bodies[\"Delfi-C3\"].set_aerodynamic_coefficient_interface(\n",
    "    simulation_setup.create_aerodynamic_coefficient_interface(\n",
    "        aero_c_settings,\n",
    "        \"Delfi-C3\")\n",
    ")\n",
    "# TODO: Simplify (post 1.0.0 work)\n",
    "\n",
    "# Create radiation pressure settings\n",
    "reference_area_radiation = 4.0\n",
    "radiation_pressure_coefficient = 1.2\n",
    "occulting_bodies = [\"Earth\"]\n",
    "rad_press_settings = simulation_setup.CannonBallRadiationPressureInterfaceSettings(\n",
    "    \"Sun\", reference_area_radiation, radiation_pressure_coefficient, occulting_bodies)\n",
    "\n",
    "# Create and set radiation pressure settings\n",
    "bodies[\"Delfi-C3\"].set_radiation_pressure_interface(\n",
    "    \"Sun\", simulation_setup.create_radiation_pressure_interface(\n",
    "        rad_press_settings, \"Delfi-C3\", bodies))\n",
    "\n",
    "# TODO: Simplify (post 1.0.0 work)"
   ]
  },
  {
   "cell_type": "code",
   "execution_count": null,
   "metadata": {},
   "outputs": [],
   "source": [
    "###########################################################################\n",
    "# FINALIZE BODIES #########################################################\n",
    "###########################################################################\n",
    "\n",
    "# Finalize body creation.\n",
    "simulation_setup.set_global_frame_body_ephemerides(bodies, \"SSB\", \"J2000\")"
   ]
  },
  {
   "cell_type": "code",
   "execution_count": null,
   "metadata": {},
   "outputs": [],
   "source": [
    "###########################################################################\n",
    "# CREATE ACCELERATIONS ####################################################\n",
    "###########################################################################\n",
    "\n",
    "# Define bodies that are propagated.\n",
    "bodies_to_propagate = [\"Delfi-C3\"]\n",
    "\n",
    "# Define central bodies.\n",
    "central_bodies = [\"Earth\"]\n",
    "\n",
    "# Define unique (Sun, Earth) accelerations acting on Delfi-C3.\n",
    "accelerations_of_delfi_c3 = dict(\n",
    "    Sun=\n",
    "    [\n",
    "        simulation_setup.Acceleration.canon_ball_radiation_pressure()\n",
    "        # AccelerationSettings(AvailableAcceleration.cannon_ball_radiation_pressure) # LEGACY DESIGN.\n",
    "    ],\n",
    "    Earth=\n",
    "    [\n",
    "        simulation_setup.Acceleration.spherical_harmonic_gravity(5, 5),\n",
    "        # SphericalHarmonicAccelerationSettings(5, 5), # LEGACY DESIGN.\n",
    "\n",
    "        simulation_setup.Acceleration.aerodynamic()\n",
    "        # AccelerationSettings(AvailableAcceleration.aerodynamic) # LEGACY DESIGN.\n",
    "    ])\n",
    "\n",
    "# Define other point mass accelerations acting on Delfi-C3.\n",
    "for other in set(bodies_to_create).difference({\"Sun\", \"Earth\"}):\n",
    "    accelerations_of_delfi_c3[other] = [\n",
    "        simulation_setup.Acceleration.point_mass_gravity()]\n",
    "\n",
    "# Create global accelerations dictionary.\n",
    "acceleration_dict = {\"Delfi-C3\": accelerations_of_delfi_c3}\n",
    "\n",
    "# Create acceleration models.\n",
    "acceleration_models = simulation_setup.create_acceleration_models_dict(\n",
    "    bodies,\n",
    "    acceleration_dict,\n",
    "    bodies_to_propagate,\n",
    "    central_bodies)"
   ]
  },
  {
   "cell_type": "code",
   "execution_count": null,
   "metadata": {},
   "outputs": [],
   "source": [
    "###########################################################################\n",
    "# CREATE PROPAGATION SETTINGS #############################################\n",
    "###########################################################################\n",
    "\n",
    "# Set initial conditions for the Asterix satellite that will be\n",
    "# propagated in this simulation. The initial conditions are given in\n",
    "# Keplerian elements and later on converted to Cartesian elements.\n",
    "\n",
    "# Set Keplerian elements for Delfi-C3\n",
    "earth_gravitational_parameter = bodies[\n",
    "    \"Earth\"].gravity_field_model.get_gravitational_parameter()\n",
    "\n",
    "# REVISED CONTEMPORARY DESIGN.\n",
    "system_initial_state = elements.keplerian2cartesian(\n",
    "    mu=earth_gravitational_parameter,\n",
    "    a=7500.0E3,\n",
    "    ecc=0.1,\n",
    "    inc=np.deg2rad(85.3),\n",
    "    raan=np.deg2rad(23.4),\n",
    "    argp=np.deg2rad(235.7),\n",
    "    nu=np.deg2rad(139.87))\n",
    "\n",
    "# Create propagation settings.\n",
    "propagator_settings = propagators.TranslationalStatePropagatorSettings(\n",
    "    central_bodies,\n",
    "    acceleration_models,\n",
    "    bodies_to_propagate,\n",
    "    system_initial_state,\n",
    "    simulation_end_epoch\n",
    ")\n",
    "# Create numerical integrator settings.\n",
    "integrator_settings = numerical_integrators.IntegratorSettings(\n",
    "    numerical_integrators.AvailableIntegrators.rungeKutta4,\n",
    "    simulation_start_epoch,\n",
    "    fixed_step_size\n",
    ")"
   ]
  },
  {
   "cell_type": "code",
   "execution_count": null,
   "metadata": {},
   "outputs": [],
   "source": [
    "###########################################################################\n",
    "# PROPAGATE ORBIT #########################################################\n",
    "###########################################################################\n",
    "\n",
    "# Create simulation object and propagate dynamics.\n",
    "dynamics_simulator = propagators.SingleArcDynamicsSimulator(\n",
    "    bodies, integrator_settings, propagator_settings, True)\n",
    "result = dynamics_simulator.get_equations_of_motion_numerical_solution()"
   ]
  },
  {
   "cell_type": "code",
   "execution_count": null,
   "metadata": {},
   "outputs": [],
   "source": [
    "###########################################################################\n",
    "# PRINT INITIAL AND FINAL STATES ##########################################\n",
    "###########################################################################\n",
    "\n",
    "print(\n",
    "    f\"\"\"\n",
    "Single Earth-Orbiting Satellite Example.\n",
    "The initial position vector of Delfi-C3 is [km]: \\n{\n",
    "    result[simulation_start_epoch][:3] / 1E3}\n",
    "The initial velocity vector of Delfi-C3 is [km/s]: \\n{\n",
    "    result[simulation_start_epoch][3:] / 1E3}\n",
    "After {simulation_end_epoch} seconds the position vector of Delfi-C3 is [km]: \\n{\n",
    "    result[simulation_end_epoch][:3] / 1E3}\n",
    "And the velocity vector of Delfi-C3 is [km/s]: \\n{\n",
    "    result[simulation_end_epoch][3:] / 1E3}\n",
    "    \"\"\"\n",
    ")"
   ]
  },
  {
   "cell_type": "code",
   "execution_count": null,
   "metadata": {},
   "outputs": [],
   "source": []
  }
 ],
 "metadata": {
  "kernelspec": {
   "display_name": "tudat-environment",
   "language": "python",
   "name": "tudat-environment"
  },
  "language_info": {
   "codemirror_mode": {
    "name": "ipython",
    "version": 3
   },
   "file_extension": ".py",
   "mimetype": "text/x-python",
   "name": "python",
   "nbconvert_exporter": "python",
   "pygments_lexer": "ipython3",
   "version": "3.7.6"
  }
 },
 "nbformat": 4,
 "nbformat_minor": 4
}
