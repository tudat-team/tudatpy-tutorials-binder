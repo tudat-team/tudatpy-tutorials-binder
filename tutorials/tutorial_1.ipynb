{
 "cells": [
  {
   "cell_type": "markdown",
   "metadata": {},
   "source": [
    "# Tutorial 1. Unperturbed Earth-orbiting Satellite"
   ]
  },
  {
   "cell_type": "markdown",
   "metadata": {},
   "source": [
    "## Import statements"
   ]
  },
  {
   "cell_type": "code",
   "execution_count": 1,
   "metadata": {},
   "outputs": [],
   "source": [
    "import numpy as np\n",
    "import pandas as pd\n",
    "from tudatpy import elements\n",
    "from tudatpy.kernel import constants\n",
    "from tudatpy.kernel import numerical_integrators\n",
    "from tudatpy.kernel import spice_interface\n",
    "from tudatpy.kernel import propagators\n",
    "from tudatpy.kernel import simulation_setup"
   ]
  },
  {
   "cell_type": "markdown",
   "metadata": {},
   "source": [
    "## Define tutorial variables"
   ]
  },
  {
   "cell_type": "code",
   "execution_count": 2,
   "metadata": {},
   "outputs": [],
   "source": [
    "start_epoch=0.0\n",
    "fixed_step_size=10.0\n",
    "end_epoch=constants.JULIAN_DAY\n",
    "parent_body=\"Earth\"\n",
    "frame_orientation=\"ECLIPJ2000\"\n",
    "frame_origin=\"SSB\"\n",
    "satellite_name=\"Delfi-C3\"\n",
    "sat_sma=7500.0E3\n",
    "sat_ecc=0.1\n",
    "sat_inc=np.deg2rad(85.3)\n",
    "sat_raan=np.deg2rad(23.4)\n",
    "sat_argp=np.deg2rad(235.7)\n",
    "sat_nu=np.deg2rad(139.87)\n",
    "return_output=False\n",
    "print_output=True\n",
    "output_type='markdown'"
   ]
  },
  {
   "cell_type": "markdown",
   "metadata": {},
   "source": [
    "## Create environment"
   ]
  },
  {
   "cell_type": "code",
   "execution_count": 3,
   "metadata": {},
   "outputs": [],
   "source": [
    "spice_interface.load_standard_kernels()\n",
    "\n",
    "# Create body objects.\n",
    "bodies_to_create = [parent_body]\n",
    "\n",
    "body_settings = simulation_setup.get_default_body_settings(bodies_to_create)\n",
    "\n",
    "body_settings[parent_body].ephemeris_settings = simulation_setup.ConstantEphemerisSettings(\n",
    "    np.zeros(6))\n",
    "\n",
    "body_settings[parent_body].rotation_model_settings.reset_original_frame(frame_orientation)\n",
    "\n",
    "# Create Earth Object.\n",
    "bodies = simulation_setup.create_bodies(body_settings)"
   ]
  },
  {
   "cell_type": "markdown",
   "metadata": {},
   "source": [
    "## Create vehicle"
   ]
  },
  {
   "cell_type": "code",
   "execution_count": 4,
   "metadata": {},
   "outputs": [],
   "source": [
    "bodies[satellite_name] = simulation_setup.Body()"
   ]
  },
  {
   "cell_type": "markdown",
   "metadata": {},
   "source": [
    "## Finalise bodies"
   ]
  },
  {
   "cell_type": "code",
   "execution_count": 5,
   "metadata": {},
   "outputs": [],
   "source": [
    "simulation_setup.set_global_frame_body_ephemerides(bodies, \"SSB\", \"ECLIPJ2000\")"
   ]
  },
  {
   "cell_type": "markdown",
   "metadata": {},
   "source": [
    "## Define accelerations"
   ]
  },
  {
   "cell_type": "code",
   "execution_count": 6,
   "metadata": {},
   "outputs": [],
   "source": [
    "# Define bodies that are propagated.\n",
    "bodies_to_propagate = [satellite_name]\n",
    "\n",
    "# Define central bodies.\n",
    "central_bodies = [parent_body]\n",
    "\n",
    "# Define accelerations acting on Delfi-C3.\n",
    "accelerations_of_delfi_c3 = dict(\n",
    "    Earth=[simulation_setup.Acceleration.point_mass_gravity()]\n",
    ")\n",
    "\n",
    "# Create global accelerations dictionary.\n",
    "accelerations = {satellite_name: accelerations_of_delfi_c3}\n",
    "\n",
    "# Create acceleration models.\n",
    "acceleration_models = simulation_setup.create_acceleration_models_dict(\n",
    "    bodies, accelerations, bodies_to_propagate, central_bodies)"
   ]
  },
  {
   "cell_type": "markdown",
   "metadata": {},
   "source": [
    "## Define propagation settings"
   ]
  },
  {
   "cell_type": "code",
   "execution_count": 7,
   "metadata": {},
   "outputs": [],
   "source": [
    "# Set initial conditions for the Asterix satellite that will be\n",
    "# propagated in this simulation. The initial conditions are given in\n",
    "# Keplerian elements and later on converted to Cartesian elements.\n",
    "\n",
    "# Set Keplerian elements for Delfi-C3\n",
    "earth_gravitational_parameter = bodies[\n",
    "    parent_body].gravity_field_model.get_gravitational_parameter()\n",
    "\n",
    "# REVISED CONTEMPORARY DESIGN.\n",
    "system_initial_state = elements.keplerian2cartesian(\n",
    "    mu=earth_gravitational_parameter,\n",
    "    a=sat_sma,\n",
    "    ecc=sat_ecc,\n",
    "    inc=sat_inc,\n",
    "    raan=sat_raan,\n",
    "    argp=sat_argp,\n",
    "    nu=sat_nu)\n",
    "\n",
    "# Create propagation settings.\n",
    "propagator_settings = propagators.TranslationalStatePropagatorSettings(\n",
    "    central_bodies,\n",
    "    acceleration_models,\n",
    "    bodies_to_propagate,\n",
    "    system_initial_state,\n",
    "    end_epoch)\n",
    "\n",
    "# Create numerical integrator settings.\n",
    "integrator_settings = numerical_integrators.IntegratorSettings(\n",
    "    numerical_integrators.AvailableIntegrators.rungeKutta4,\n",
    "    end_epoch,\n",
    "    fixed_step_size)"
   ]
  },
  {
   "cell_type": "markdown",
   "metadata": {},
   "source": [
    "## Propagate orbit"
   ]
  },
  {
   "cell_type": "code",
   "execution_count": 8,
   "metadata": {},
   "outputs": [],
   "source": [
    "###########################################################################\n",
    "# PROPAGATE ORBIT #########################################################\n",
    "###########################################################################\n",
    "\n",
    "# Create simulation object and propagate dynamics.\n",
    "dynamics_simulator = propagators.SingleArcDynamicsSimulator(\n",
    "    bodies, integrator_settings, propagator_settings, True)\n",
    "result = dynamics_simulator.get_equations_of_motion_numerical_solution()"
   ]
  },
  {
   "cell_type": "markdown",
   "metadata": {},
   "source": [
    "## Print output"
   ]
  },
  {
   "cell_type": "code",
   "execution_count": 9,
   "metadata": {},
   "outputs": [
    {
     "name": "stdout",
     "output_type": "stream",
     "text": [
      "\n",
      "Single Earth-Orbiting Satellite Example.\n",
      "The initial position vector of Delfi-C3 is [km]: \n",
      "[7037.48400133 3238.05901792 2150.7241875 ] \n",
      "The initial velocity vector of Delfi-C3 is [km]: \n",
      "[-1.46565763 -0.04095839  6.62279761]\n",
      "After 86400.0 seconds the position vector of Delfi-C3 is [km]: \n",
      "[7022.55787059 3237.52532674 2216.86888198]\n",
      "And the velocity vector of Delfi-C3 is [km]: \n",
      "[-1.51953372 -0.06577191  6.60606169]\n",
      "    \n"
     ]
    }
   ],
   "source": [
    "\n",
    "print(\n",
    "    f\"\"\"\n",
    "Single Earth-Orbiting Satellite Example.\n",
    "The initial position vector of Delfi-C3 is [km]: \\n{\n",
    "    result[list(result.keys())[0]][:3] / 1E3} \n",
    "The initial velocity vector of Delfi-C3 is [km]: \\n{\n",
    "    result[list(result.keys())[0]][3:] / 1E3}\n",
    "After {end_epoch} seconds the position vector of Delfi-C3 is [km]: \\n{\n",
    "    result[list(result.keys())[-1]][:3] / 1E3}\n",
    "And the velocity vector of Delfi-C3 is [km]: \\n{\n",
    "    result[list(result.keys())[-1]][3:] / 1E3}\n",
    "    \"\"\"\n",
    ")"
   ]
  },
  {
   "cell_type": "code",
   "execution_count": null,
   "metadata": {},
   "outputs": [],
   "source": []
  }
 ],
 "metadata": {
  "kernelspec": {
   "display_name": "tudat-environment",
   "language": "python",
   "name": "tudat-environment"
  },
  "language_info": {
   "codemirror_mode": {
    "name": "ipython",
    "version": 3
   },
   "file_extension": ".py",
   "mimetype": "text/x-python",
   "name": "python",
   "nbconvert_exporter": "python",
   "pygments_lexer": "ipython3",
   "version": "3.7.6"
  }
 },
 "nbformat": 4,
 "nbformat_minor": 4
}
